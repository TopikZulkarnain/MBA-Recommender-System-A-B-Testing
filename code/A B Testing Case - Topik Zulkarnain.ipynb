{
 "cells": [
  {
   "cell_type": "markdown",
   "metadata": {},
   "source": [
    "![Gambar](AB Test.png)\n",
    "# A/B Testing Case\n",
    "### Oleh : Topik Zulkarnain\n",
    "## Introduction A/B Testing\n",
    "A/B Testing adalah teknik yang digunakan untuk menentukan apakah suatu rancangan baru dari suatu hal dapat membawa improvement berdasarkan metrik yang dipilih. Pada notebook ini akan dilakukan A/B Testing terhadap kasus membandingkan dua promosi suatu perusahaan e-commerce , yaitu membandingkan promosi yang sudah ada (A) dan promosi yang baru (B).\n",
    "Metrik yang digunakan oleh perusahaan adalah :\n",
    "* Rataan aktifitas (dalam waktu) pengguna aplikasi/web.\n",
    "* Conversion Rate, yang didefinisikan proporsi orang yang akhirnya membeli barang setelah melihat aplikasi/web.\n",
    "\n",
    "Pembagian traffic antara promosi A dan B adalah 60% - 40%"
   ]
  },
  {
   "cell_type": "markdown",
   "metadata": {},
   "source": [
    "## Data"
   ]
  },
  {
   "cell_type": "code",
   "execution_count": 31,
   "metadata": {},
   "outputs": [],
   "source": [
    "import pandas as pd\n",
    "data_dict = {\n",
    "    'Jumlah Pengguna':[6000,4000],\n",
    "    'Rataan (waktu)': [60,62],\n",
    "    'std (waktu)' : [40,45],\n",
    "    'Conversion Rate' : [1.5,2],\n",
    "    'Index' : ['A','B']\n",
    "}"
   ]
  },
  {
   "cell_type": "code",
   "execution_count": 32,
   "metadata": {},
   "outputs": [],
   "source": [
    "data = pd.DataFrame(data_dict, columns = ['Jumlah Pengguna', 'Rataan (waktu)', 'std (waktu)', 'Conversion Rate'], index=['A','B'])"
   ]
  },
  {
   "cell_type": "code",
   "execution_count": 33,
   "metadata": {},
   "outputs": [
    {
     "data": {
      "text/html": [
       "<div>\n",
       "<style scoped>\n",
       "    .dataframe tbody tr th:only-of-type {\n",
       "        vertical-align: middle;\n",
       "    }\n",
       "\n",
       "    .dataframe tbody tr th {\n",
       "        vertical-align: top;\n",
       "    }\n",
       "\n",
       "    .dataframe thead th {\n",
       "        text-align: right;\n",
       "    }\n",
       "</style>\n",
       "<table border=\"1\" class=\"dataframe\">\n",
       "  <thead>\n",
       "    <tr style=\"text-align: right;\">\n",
       "      <th></th>\n",
       "      <th>Jumlah Pengguna</th>\n",
       "      <th>Rataan (waktu)</th>\n",
       "      <th>std (waktu)</th>\n",
       "      <th>Conversion Rate</th>\n",
       "    </tr>\n",
       "  </thead>\n",
       "  <tbody>\n",
       "    <tr>\n",
       "      <th>A</th>\n",
       "      <td>6000</td>\n",
       "      <td>60</td>\n",
       "      <td>40</td>\n",
       "      <td>1.5</td>\n",
       "    </tr>\n",
       "    <tr>\n",
       "      <th>B</th>\n",
       "      <td>4000</td>\n",
       "      <td>62</td>\n",
       "      <td>45</td>\n",
       "      <td>2.0</td>\n",
       "    </tr>\n",
       "  </tbody>\n",
       "</table>\n",
       "</div>"
      ],
      "text/plain": [
       "   Jumlah Pengguna  Rataan (waktu)  std (waktu)  Conversion Rate\n",
       "A             6000              60           40              1.5\n",
       "B             4000              62           45              2.0"
      ]
     },
     "execution_count": 33,
     "metadata": {},
     "output_type": "execute_result"
    }
   ],
   "source": [
    "data"
   ]
  },
  {
   "cell_type": "markdown",
   "metadata": {},
   "source": [
    "Berdasarkan data, dapat dilihat bahwa untuk promosi B terlihat para pelanggan lebih lama dalam melihat web/aplikasi, namun conversion ratenya lebbih tinggi dibandingkan dengan promosi A. Untuk membuktikan apakah promosi B benar benar memberikan impact business yang lebih baik, maka diperlukannya A/B Testing. Berikut adalah hal yang perlu diperhatikan saat menggunakan A/B Testing :\n",
    "1. Membandingkan parameter dari distribusi 2 populasi nya ataupun membandingkan distribusinya terhadap populasinya sendiri\n",
    "2. Membangun hipotesis null dan hipotesis alternatif untuk pengambilan kesimpulan\n",
    "\n",
    "Test statistik yang digunakan pada kasus ini adalah :\n",
    "* Uji-Z untuk melihat apakah benar promosi B lebih membuat pelanggan menghabiskan waktunya melihat web\n",
    "* Uji-Chi Square untuk melihat apakah benar promosi B membuat impact pembelian lebih banyak dibandingkan A\n",
    "\n",
    "### 1. Uji-Z untuk Rataan Waktu"
   ]
  },
  {
   "cell_type": "markdown",
   "metadata": {},
   "source": [
    "Hipotesis yang akan digunakan adalah :\n",
    "* H0 = rataan waktu antara dua promosi adalah sama\n",
    "* Ha = rataan waktu promosi B lebih lama "
   ]
  },
  {
   "cell_type": "code",
   "execution_count": 35,
   "metadata": {},
   "outputs": [
    {
     "name": "stdout",
     "output_type": "stream",
     "text": [
      "Z-score: 2.2749070654279993\n",
      "p-value: 0.011455752709549046\n"
     ]
    }
   ],
   "source": [
    "import numpy as np\n",
    "from scipy.stats import norm\n",
    "\n",
    "mu_B = 62\n",
    "mu_A = 60\n",
    "\n",
    "std_B = 45\n",
    "std_A = 40\n",
    "\n",
    "n_B = 4000\n",
    "n_A = 6000\n",
    "\n",
    "Z = (mu_B - mu_A)/np.sqrt(std_B**2/n_B + std_A**2/n_A)\n",
    "pvalue = norm.sf(Z)\n",
    "\n",
    "print(\"Z-score: {0}\\np-value: {1}\".format(Z,pvalue))"
   ]
  },
  {
   "cell_type": "markdown",
   "metadata": {},
   "source": [
    "dengan menggunakan alpha 5%, didapatkan p-value < alpha. Maka disimpulkan H0 ditolak yang berarti rataan waktu promosi B lebih lama"
   ]
  },
  {
   "cell_type": "markdown",
   "metadata": {},
   "source": [
    "## 2. Uji Chi-Square untuk Conversion Rate\n",
    "Hipotesis yang digunakan adalah :\n",
    "* H0 : conversion rate pada dua promosi adalah sama\n",
    "* H1 : conversion rate pada promosi B lebih besar\n",
    "\n",
    "data yang digunakan berdasarkan conversion rate adalah sebagai berikut:"
   ]
  },
  {
   "cell_type": "code",
   "execution_count": 36,
   "metadata": {},
   "outputs": [],
   "source": [
    "import pandas as pd\n",
    "data_dict = {\n",
    "    'Jumlah Pengguna':[6000,4000],\n",
    "    'Converted': [90,80],\n",
    "    'Non Converted' : [5910,3920],\n",
    "    'Index' : ['A','B']\n",
    "}"
   ]
  },
  {
   "cell_type": "code",
   "execution_count": 37,
   "metadata": {},
   "outputs": [],
   "source": [
    "data_conversion = data = pd.DataFrame(data_dict, columns = ['Jumlah Pengguna', 'Converted', 'Non Converted'], index=['A','B'])"
   ]
  },
  {
   "cell_type": "code",
   "execution_count": 38,
   "metadata": {},
   "outputs": [
    {
     "data": {
      "text/html": [
       "<div>\n",
       "<style scoped>\n",
       "    .dataframe tbody tr th:only-of-type {\n",
       "        vertical-align: middle;\n",
       "    }\n",
       "\n",
       "    .dataframe tbody tr th {\n",
       "        vertical-align: top;\n",
       "    }\n",
       "\n",
       "    .dataframe thead th {\n",
       "        text-align: right;\n",
       "    }\n",
       "</style>\n",
       "<table border=\"1\" class=\"dataframe\">\n",
       "  <thead>\n",
       "    <tr style=\"text-align: right;\">\n",
       "      <th></th>\n",
       "      <th>Jumlah Pengguna</th>\n",
       "      <th>Converted</th>\n",
       "      <th>Non Converted</th>\n",
       "    </tr>\n",
       "  </thead>\n",
       "  <tbody>\n",
       "    <tr>\n",
       "      <th>A</th>\n",
       "      <td>6000</td>\n",
       "      <td>90</td>\n",
       "      <td>5910</td>\n",
       "    </tr>\n",
       "    <tr>\n",
       "      <th>B</th>\n",
       "      <td>4000</td>\n",
       "      <td>80</td>\n",
       "      <td>3920</td>\n",
       "    </tr>\n",
       "  </tbody>\n",
       "</table>\n",
       "</div>"
      ],
      "text/plain": [
       "   Jumlah Pengguna  Converted  Non Converted\n",
       "A             6000         90           5910\n",
       "B             4000         80           3920"
      ]
     },
     "execution_count": 38,
     "metadata": {},
     "output_type": "execute_result"
    }
   ],
   "source": [
    "data_conversion"
   ]
  },
  {
   "cell_type": "markdown",
   "metadata": {},
   "source": [
    "Pada hipotesis H0, conversion promosi A dan B terdistribusi dengan sama yaitu terdistribusi binomial. Maka harus digunakan estimasi untuk menghitung conversion rate dibawah hipotesis H0, dan didapat hasilnya sebagai berikut :"
   ]
  },
  {
   "cell_type": "code",
   "execution_count": 39,
   "metadata": {},
   "outputs": [],
   "source": [
    "import pandas as pd\n",
    "data_dict = {\n",
    "    'Jumlah Pengguna':[6000,4000],\n",
    "    'Converted': [102,68],\n",
    "    'Non Converted' : [5898,3932],\n",
    "    'Index' : ['A','B']\n",
    "}"
   ]
  },
  {
   "cell_type": "code",
   "execution_count": 40,
   "metadata": {},
   "outputs": [],
   "source": [
    "data_conversion = data = pd.DataFrame(data_dict, columns = ['Jumlah Pengguna', 'Converted', 'Non Converted'], index=['A','B'])"
   ]
  },
  {
   "cell_type": "code",
   "execution_count": 41,
   "metadata": {},
   "outputs": [
    {
     "data": {
      "text/html": [
       "<div>\n",
       "<style scoped>\n",
       "    .dataframe tbody tr th:only-of-type {\n",
       "        vertical-align: middle;\n",
       "    }\n",
       "\n",
       "    .dataframe tbody tr th {\n",
       "        vertical-align: top;\n",
       "    }\n",
       "\n",
       "    .dataframe thead th {\n",
       "        text-align: right;\n",
       "    }\n",
       "</style>\n",
       "<table border=\"1\" class=\"dataframe\">\n",
       "  <thead>\n",
       "    <tr style=\"text-align: right;\">\n",
       "      <th></th>\n",
       "      <th>Jumlah Pengguna</th>\n",
       "      <th>Converted</th>\n",
       "      <th>Non Converted</th>\n",
       "    </tr>\n",
       "  </thead>\n",
       "  <tbody>\n",
       "    <tr>\n",
       "      <th>A</th>\n",
       "      <td>6000</td>\n",
       "      <td>102</td>\n",
       "      <td>5898</td>\n",
       "    </tr>\n",
       "    <tr>\n",
       "      <th>B</th>\n",
       "      <td>4000</td>\n",
       "      <td>68</td>\n",
       "      <td>3932</td>\n",
       "    </tr>\n",
       "  </tbody>\n",
       "</table>\n",
       "</div>"
      ],
      "text/plain": [
       "   Jumlah Pengguna  Converted  Non Converted\n",
       "A             6000        102           5898\n",
       "B             4000         68           3932"
      ]
     },
     "execution_count": 41,
     "metadata": {},
     "output_type": "execute_result"
    }
   ],
   "source": [
    "data_conversion"
   ]
  },
  {
   "cell_type": "code",
   "execution_count": 42,
   "metadata": {},
   "outputs": [
    {
     "name": "stdout",
     "output_type": "stream",
     "text": [
      "distance d: 3.590449404583807\n",
      "p-value: 0.05811252579106675\n"
     ]
    }
   ],
   "source": [
    "from scipy.stats import chi2\n",
    "import numpy as np\n",
    "\n",
    "T = np.array([102, 68, 5898, 3932])\n",
    "O = np.array([90, 80, 5910, 3920])\n",
    "\n",
    "D = np.sum(np.square(T-O)/T)\n",
    "\n",
    "pvalue = chi2.sf(D, df=1)\n",
    "\n",
    "print(\"distance d: {0}\\np-value: {1}\".format(D,pvalue))"
   ]
  },
  {
   "cell_type": "markdown",
   "metadata": {},
   "source": [
    "didapatkan p-value>alpha, maka dapat disimpulkan bahwa conversion rate antara promosi A dan B adalah sama. Namun, jika dilihat nilai p-value sangat tipis dengan nilai alpha. Oleh karena itu, diperlukan analisis lain untuk mengecek apakah terdapat uji lain yang bisa menurunkan p-value lebih sedikit lagi sehingga dapat disimpulkan bahwa conversion rate promosi B lebih besar dan akhirnya pun didapatkan insight bahwa promosi B bisa dibilang lebih baik dari pada promosi A. Uji yang akan dilakukan adalah mencoba melakukan Z-Test untuk conversion rate"
   ]
  },
  {
   "cell_type": "markdown",
   "metadata": {},
   "source": [
    "## 3. Uji-Z untuk Conversion Rate"
   ]
  },
  {
   "cell_type": "code",
   "execution_count": 43,
   "metadata": {},
   "outputs": [
    {
     "name": "stdout",
     "output_type": "stream",
     "text": [
      "Z-score: 1.8427115179918694\n",
      "p-value: 0.03268557071858785\n"
     ]
    }
   ],
   "source": [
    "import numpy as np\n",
    "from scipy.stats import norm\n",
    "\n",
    "mu_B = 0.02\n",
    "mu_A = 0.015\n",
    "\n",
    "var_B = mu_B * (1-mu_B)\n",
    "var_A = mu_A * (1-mu_A)\n",
    "\n",
    "n_B = 4000\n",
    "n_A = 6000\n",
    "\n",
    "Z = (mu_B - mu_A)/np.sqrt(var_B/n_B + var_A/n_A)\n",
    "pvalue = norm.sf(Z)\n",
    "\n",
    "print(\"Z-score: {0}\\np-value: {1}\".format(Z,pvalue))"
   ]
  },
  {
   "cell_type": "markdown",
   "metadata": {},
   "source": [
    "dengan menggunakan uji-Z untuk konversion rate ternyata p-value<alpha sehingga dapat disimpulkan bahwa, conversion rate untuk promosi B lebih baik dari pada promosi A, sehingga pada nantinya perusahaan bisa mengembangkan promosi B untuk mendapatkan keuntungan yang lebih besar lagi bagi bisnisnya"
   ]
  },
  {
   "cell_type": "code",
   "execution_count": null,
   "metadata": {},
   "outputs": [],
   "source": []
  }
 ],
 "metadata": {
  "kernelspec": {
   "display_name": "Python 3",
   "language": "python",
   "name": "python3"
  },
  "language_info": {
   "codemirror_mode": {
    "name": "ipython",
    "version": 3
   },
   "file_extension": ".py",
   "mimetype": "text/x-python",
   "name": "python",
   "nbconvert_exporter": "python",
   "pygments_lexer": "ipython3",
   "version": "3.6.4"
  }
 },
 "nbformat": 4,
 "nbformat_minor": 2
}
