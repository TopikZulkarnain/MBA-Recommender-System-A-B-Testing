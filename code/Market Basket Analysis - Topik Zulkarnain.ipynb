{
 "cells": [
  {
   "cell_type": "markdown",
   "metadata": {},
   "source": [
    "![Gambar Market](Market.JPG)\n",
    "# Market Basket Analysis\n",
    "Notebook ini bertujuan untuk mengaplikasikan Algoritma Apriori kedalam permasalahan market basket. Data yang digunakan adalah data yang diisi oleh peserta Astra Data Scientist berupa memilih 3 barang yang diinginkan dari gambar diatas"
   ]
  },
  {
   "cell_type": "code",
   "execution_count": 9,
   "metadata": {},
   "outputs": [
    {
     "name": "stdout",
     "output_type": "stream",
     "text": [
      "Collecting apyori\n",
      "  Downloading https://files.pythonhosted.org/packages/25/fd/0561e2dd29aeed544bad2d1991636e38700cdaef9530490b863741f35295/apyori-1.1.1.tar.gz\n",
      "Building wheels for collected packages: apyori\n",
      "  Running setup.py bdist_wheel for apyori: started\n",
      "  Running setup.py bdist_wheel for apyori: finished with status 'done'\n",
      "  Stored in directory: C:\\Users\\topikz064115\\AppData\\Local\\pip\\Cache\\wheels\\7b\\2a\\35\\c0c3749c1a36d4f454ea22d8396e1b854b86340d63cbbb7949\n",
      "Successfully built apyori\n",
      "Installing collected packages: apyori\n",
      "Successfully installed apyori-1.1.1\n"
     ]
    },
    {
     "name": "stderr",
     "output_type": "stream",
     "text": [
      "You are using pip version 9.0.1, however version 19.2.3 is available.\n",
      "You should consider upgrading via the 'python -m pip install --upgrade pip' command.\n"
     ]
    }
   ],
   "source": [
    "!pip install apyori"
   ]
  },
  {
   "cell_type": "code",
   "execution_count": 10,
   "metadata": {},
   "outputs": [],
   "source": [
    "#Load Data\n",
    "import pandas as pd #DataFrame\n",
    "from apyori import apriori #Algoritma Apriori\n",
    "data = pd.read_csv('apriori.csv')"
   ]
  },
  {
   "cell_type": "code",
   "execution_count": 47,
   "metadata": {},
   "outputs": [
    {
     "data": {
      "text/html": [
       "<div>\n",
       "<style scoped>\n",
       "    .dataframe tbody tr th:only-of-type {\n",
       "        vertical-align: middle;\n",
       "    }\n",
       "\n",
       "    .dataframe tbody tr th {\n",
       "        vertical-align: top;\n",
       "    }\n",
       "\n",
       "    .dataframe thead th {\n",
       "        text-align: right;\n",
       "    }\n",
       "</style>\n",
       "<table border=\"1\" class=\"dataframe\">\n",
       "  <thead>\n",
       "    <tr style=\"text-align: right;\">\n",
       "      <th></th>\n",
       "      <th>HP</th>\n",
       "      <th>Racket</th>\n",
       "      <th>Watch</th>\n",
       "    </tr>\n",
       "  </thead>\n",
       "  <tbody>\n",
       "    <tr>\n",
       "      <th>0</th>\n",
       "      <td>HP</td>\n",
       "      <td>Camera</td>\n",
       "      <td>Watch</td>\n",
       "    </tr>\n",
       "    <tr>\n",
       "      <th>1</th>\n",
       "      <td>Watch</td>\n",
       "      <td>Camera</td>\n",
       "      <td>Music Pad</td>\n",
       "    </tr>\n",
       "    <tr>\n",
       "      <th>2</th>\n",
       "      <td>Camera</td>\n",
       "      <td>Watch</td>\n",
       "      <td>Mouse</td>\n",
       "    </tr>\n",
       "    <tr>\n",
       "      <th>3</th>\n",
       "      <td>HP</td>\n",
       "      <td>Watch</td>\n",
       "      <td>Music Pad</td>\n",
       "    </tr>\n",
       "    <tr>\n",
       "      <th>4</th>\n",
       "      <td>Watch</td>\n",
       "      <td>Racket</td>\n",
       "      <td>Camera</td>\n",
       "    </tr>\n",
       "  </tbody>\n",
       "</table>\n",
       "</div>"
      ],
      "text/plain": [
       "       HP  Racket      Watch\n",
       "0      HP  Camera      Watch\n",
       "1   Watch  Camera  Music Pad\n",
       "2  Camera   Watch      Mouse\n",
       "3      HP   Watch  Music Pad\n",
       "4   Watch  Racket     Camera"
      ]
     },
     "execution_count": 47,
     "metadata": {},
     "output_type": "execute_result"
    }
   ],
   "source": [
    "data.head()"
   ]
  },
  {
   "cell_type": "markdown",
   "metadata": {},
   "source": [
    "# Apriori Algorithm"
   ]
  },
  {
   "cell_type": "code",
   "execution_count": 52,
   "metadata": {},
   "outputs": [],
   "source": [
    "records = []\n",
    "for i in range(len(data)):\n",
    "    records.append([str(data.values[i,j]) for j in range(0, 3)])"
   ]
  },
  {
   "cell_type": "code",
   "execution_count": 53,
   "metadata": {},
   "outputs": [],
   "source": [
    "#Menginisiasi algoritma apriori dengan minimal support 0.0045, dan minimal confidence = 0.7\n",
    "association_rules = apriori(records, min_support=0.0045, min_confidence=0.7, min_lift=1, min_length=1)\n",
    "association_results = list(association_rules)"
   ]
  },
  {
   "cell_type": "code",
   "execution_count": 54,
   "metadata": {},
   "outputs": [
    {
     "data": {
      "text/plain": [
       "[RelationRecord(items=frozenset({'Router', 'Bag'}), support=0.043478260869565216, ordered_statistics=[OrderedStatistic(items_base=frozenset({'Router'}), items_add=frozenset({'Bag'}), confidence=1.0, lift=7.666666666666667)]),\n",
       " RelationRecord(items=frozenset({'Mouse', 'Camera'}), support=0.08695652173913043, ordered_statistics=[OrderedStatistic(items_base=frozenset({'Mouse'}), items_add=frozenset({'Camera'}), confidence=1.0, lift=1.4375)]),\n",
       " RelationRecord(items=frozenset({'Music Pad', 'Camera'}), support=0.21739130434782608, ordered_statistics=[OrderedStatistic(items_base=frozenset({'Music Pad'}), items_add=frozenset({'Camera'}), confidence=0.7142857142857142, lift=1.0267857142857142)]),\n",
       " RelationRecord(items=frozenset({'Watch', 'Camera'}), support=0.43478260869565216, ordered_statistics=[OrderedStatistic(items_base=frozenset({'Watch'}), items_add=frozenset({'Camera'}), confidence=0.7142857142857142, lift=1.0267857142857142)]),\n",
       " RelationRecord(items=frozenset({'HP', 'Watch'}), support=0.13043478260869565, ordered_statistics=[OrderedStatistic(items_base=frozenset({'HP'}), items_add=frozenset({'Watch'}), confidence=1.0, lift=1.6428571428571428)]),\n",
       " RelationRecord(items=frozenset({'Music Pad', 'Watch'}), support=0.21739130434782608, ordered_statistics=[OrderedStatistic(items_base=frozenset({'Music Pad'}), items_add=frozenset({'Watch'}), confidence=0.7142857142857142, lift=1.173469387755102)]),\n",
       " RelationRecord(items=frozenset({'nan', 'Router'}), support=0.043478260869565216, ordered_statistics=[OrderedStatistic(items_base=frozenset({'Router'}), items_add=frozenset({'nan'}), confidence=1.0, lift=4.6000000000000005)]),\n",
       " RelationRecord(items=frozenset({'Camera', 'nan', 'Bag'}), support=0.043478260869565216, ordered_statistics=[OrderedStatistic(items_base=frozenset({'Camera', 'Bag'}), items_add=frozenset({'nan'}), confidence=1.0, lift=4.6000000000000005)]),\n",
       " RelationRecord(items=frozenset({'Guitar', 'Soap', 'Bag'}), support=0.043478260869565216, ordered_statistics=[OrderedStatistic(items_base=frozenset({'Guitar', 'Bag'}), items_add=frozenset({'Soap'}), confidence=1.0, lift=4.6000000000000005), OrderedStatistic(items_base=frozenset({'Soap', 'Bag'}), items_add=frozenset({'Guitar'}), confidence=1.0, lift=2.875)]),\n",
       " RelationRecord(items=frozenset({'nan', 'Router', 'Bag'}), support=0.043478260869565216, ordered_statistics=[OrderedStatistic(items_base=frozenset({'Router', 'Bag'}), items_add=frozenset({'nan'}), confidence=1.0, lift=4.6000000000000005), OrderedStatistic(items_base=frozenset({'nan', 'Router'}), items_add=frozenset({'Bag'}), confidence=1.0, lift=7.666666666666667)]),\n",
       " RelationRecord(items=frozenset({'Music Pad', 'Guitar', 'Camera'}), support=0.08695652173913043, ordered_statistics=[OrderedStatistic(items_base=frozenset({'Music Pad', 'Guitar'}), items_add=frozenset({'Camera'}), confidence=1.0, lift=1.4375)]),\n",
       " RelationRecord(items=frozenset({'HP', 'Watch', 'Camera'}), support=0.08695652173913043, ordered_statistics=[OrderedStatistic(items_base=frozenset({'HP', 'Camera'}), items_add=frozenset({'Watch'}), confidence=1.0, lift=1.6428571428571428)]),\n",
       " RelationRecord(items=frozenset({'Mouse', 'Soap', 'Camera'}), support=0.043478260869565216, ordered_statistics=[OrderedStatistic(items_base=frozenset({'Soap', 'Camera'}), items_add=frozenset({'Mouse'}), confidence=1.0, lift=11.5), OrderedStatistic(items_base=frozenset({'Mouse', 'Soap'}), items_add=frozenset({'Camera'}), confidence=1.0, lift=1.4375)]),\n",
       " RelationRecord(items=frozenset({'Mouse', 'Watch', 'Camera'}), support=0.043478260869565216, ordered_statistics=[OrderedStatistic(items_base=frozenset({'Mouse', 'Watch'}), items_add=frozenset({'Camera'}), confidence=1.0, lift=1.4375)]),\n",
       " RelationRecord(items=frozenset({'Guitar', 'Watch', 'nan'}), support=0.043478260869565216, ordered_statistics=[OrderedStatistic(items_base=frozenset({'Guitar', 'nan'}), items_add=frozenset({'Watch'}), confidence=1.0, lift=1.6428571428571428)]),\n",
       " RelationRecord(items=frozenset({'HP', 'Music Pad', 'Watch'}), support=0.043478260869565216, ordered_statistics=[OrderedStatistic(items_base=frozenset({'HP', 'Music Pad'}), items_add=frozenset({'Watch'}), confidence=1.0, lift=1.6428571428571428)]),\n",
       " RelationRecord(items=frozenset({'Music Pad', 'Watch', 'Soap'}), support=0.043478260869565216, ordered_statistics=[OrderedStatistic(items_base=frozenset({'Music Pad', 'Soap'}), items_add=frozenset({'Watch'}), confidence=1.0, lift=1.6428571428571428)])]"
      ]
     },
     "execution_count": 54,
     "metadata": {},
     "output_type": "execute_result"
    }
   ],
   "source": [
    "association_results"
   ]
  },
  {
   "cell_type": "code",
   "execution_count": 56,
   "metadata": {},
   "outputs": [
    {
     "name": "stdout",
     "output_type": "stream",
     "text": [
      "Rule: Router -> Bag\n",
      "Support: 0.043478260869565216\n",
      "Confidence: 1.0\n",
      "Lift: 7.666666666666667\n",
      "=====================================\n",
      "Rule: Mouse -> Camera\n",
      "Support: 0.08695652173913043\n",
      "Confidence: 1.0\n",
      "Lift: 1.4375\n",
      "=====================================\n",
      "Rule: Music Pad -> Camera\n",
      "Support: 0.21739130434782608\n",
      "Confidence: 0.7142857142857142\n",
      "Lift: 1.0267857142857142\n",
      "=====================================\n",
      "Rule: Watch -> Camera\n",
      "Support: 0.43478260869565216\n",
      "Confidence: 0.7142857142857142\n",
      "Lift: 1.0267857142857142\n",
      "=====================================\n",
      "Rule: HP -> Watch\n",
      "Support: 0.13043478260869565\n",
      "Confidence: 1.0\n",
      "Lift: 1.6428571428571428\n",
      "=====================================\n",
      "Rule: Music Pad -> Watch\n",
      "Support: 0.21739130434782608\n",
      "Confidence: 0.7142857142857142\n",
      "Lift: 1.173469387755102\n",
      "=====================================\n",
      "Rule: nan -> Router\n",
      "Support: 0.043478260869565216\n",
      "Confidence: 1.0\n",
      "Lift: 4.6000000000000005\n",
      "=====================================\n",
      "Rule: Camera -> nan -> Bag\n",
      "Support: 0.043478260869565216\n",
      "Confidence: 1.0\n",
      "Lift: 4.6000000000000005\n",
      "=====================================\n",
      "Rule: Guitar -> Soap -> Bag\n",
      "Support: 0.043478260869565216\n",
      "Confidence: 1.0\n",
      "Lift: 4.6000000000000005\n",
      "=====================================\n",
      "Rule: nan -> Router -> Bag\n",
      "Support: 0.043478260869565216\n",
      "Confidence: 1.0\n",
      "Lift: 4.6000000000000005\n",
      "=====================================\n",
      "Rule: Music Pad -> Guitar -> Camera\n",
      "Support: 0.08695652173913043\n",
      "Confidence: 1.0\n",
      "Lift: 1.4375\n",
      "=====================================\n",
      "Rule: HP -> Watch -> Camera\n",
      "Support: 0.08695652173913043\n",
      "Confidence: 1.0\n",
      "Lift: 1.6428571428571428\n",
      "=====================================\n",
      "Rule: Mouse -> Soap -> Camera\n",
      "Support: 0.043478260869565216\n",
      "Confidence: 1.0\n",
      "Lift: 11.5\n",
      "=====================================\n",
      "Rule: Mouse -> Watch -> Camera\n",
      "Support: 0.043478260869565216\n",
      "Confidence: 1.0\n",
      "Lift: 1.4375\n",
      "=====================================\n",
      "Rule: Guitar -> Watch -> nan\n",
      "Support: 0.043478260869565216\n",
      "Confidence: 1.0\n",
      "Lift: 1.6428571428571428\n",
      "=====================================\n",
      "Rule: HP -> Music Pad -> Watch\n",
      "Support: 0.043478260869565216\n",
      "Confidence: 1.0\n",
      "Lift: 1.6428571428571428\n",
      "=====================================\n",
      "Rule: Music Pad -> Watch -> Soap\n",
      "Support: 0.043478260869565216\n",
      "Confidence: 1.0\n",
      "Lift: 1.6428571428571428\n",
      "=====================================\n"
     ]
    }
   ],
   "source": [
    "for item in association_results:\n",
    "\n",
    "    # first index of the inner list\n",
    "    # Contains base item and add item\n",
    "    pair = item[0] \n",
    "    items1 = [x for x in pair]\n",
    "    \n",
    "    if len(items1) == 2:\n",
    "        print(\"Rule: \" + items1[0] + \" -> \" + items1[1])\n",
    "    else:\n",
    "        print(\"Rule: \" + items1[0] + \" -> \" + items1[1] + \" -> \" + items1[2])\n",
    "\n",
    "    #second index of the inner list\n",
    "    print(\"Support: \" + str(item[1]))\n",
    "\n",
    "    #third index of the list located at 0th\n",
    "    #of the third index of the inner list\n",
    "\n",
    "    print(\"Confidence: \" + str(item[2][0][2]))\n",
    "    print(\"Lift: \" + str(item[2][0][3]))\n",
    "    print(\"=====================================\")"
   ]
  },
  {
   "cell_type": "markdown",
   "metadata": {},
   "source": [
    "### Kesimpulan"
   ]
  },
  {
   "cell_type": "markdown",
   "metadata": {},
   "source": [
    "Berdasarkan hasil algoritma apriori, dapat dilihat beberapa rule urutan pembelian ketiga barang dimana hasil dari assosiasi ini dapat dijadikan business insight seperti menaruh barang-barang yang paling sering dibeli bersamaan di satu tempat yang berdekatan. Adapun strategi yang dapat digunakan adalah dengan membuat harga khusus yang lebih untuk sekelompok barang yang biasa dibeli secara bersamaan."
   ]
  },
  {
   "cell_type": "code",
   "execution_count": null,
   "metadata": {},
   "outputs": [],
   "source": []
  }
 ],
 "metadata": {
  "kernelspec": {
   "display_name": "Python 3",
   "language": "python",
   "name": "python3"
  },
  "language_info": {
   "codemirror_mode": {
    "name": "ipython",
    "version": 3
   },
   "file_extension": ".py",
   "mimetype": "text/x-python",
   "name": "python",
   "nbconvert_exporter": "python",
   "pygments_lexer": "ipython3",
   "version": "3.6.4"
  }
 },
 "nbformat": 4,
 "nbformat_minor": 2
}
